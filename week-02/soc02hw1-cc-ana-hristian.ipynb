{
 "cells": [
  {
   "cell_type": "markdown",
   "metadata": {},
   "source": [
    "☼ Compare the lexical diversity scores for humor and romance fiction in 1.1. Which genre is more lexically diverse?\n",
    "Lexical Diversity of Various Genres in the Brown Corpus"
   ]
  },
  {
   "cell_type": "code",
   "execution_count": null,
   "metadata": {},
   "outputs": [],
   "source": [
    "Genre\t            Tokens\tTypes\tLexical diversity\n",
    "skill and hobbies\t82345\t11935\t0.145\n",
    "humor\t            21695\t5017\t0.231\n",
    "fiction: science\t14470\t3233\t0.223\n",
    "press: reportage\t100554\t14394\t0.143\n",
    "fiction: romance\t70022\t8452\t0.121\n",
    "religion\t        39399\t6373\t0.162"
   ]
  },
  {
   "cell_type": "code",
   "execution_count": 13,
   "metadata": {},
   "outputs": [],
   "source": [
    "import nltk\n",
    "from nltk.corpus import brown"
   ]
  },
  {
   "cell_type": "code",
   "execution_count": 7,
   "metadata": {},
   "outputs": [
    {
     "name": "stdout",
     "output_type": "stream",
     "text": [
      "1161192\n"
     ]
    }
   ],
   "source": [
    "# total number of tokens in the brown corpus\n",
    "total_words = len(brown.words())\n",
    "print(total_words)"
   ]
  },
  {
   "cell_type": "code",
   "execution_count": 8,
   "metadata": {},
   "outputs": [
    {
     "data": {
      "text/plain": [
       "['adventure',\n",
       " 'belles_lettres',\n",
       " 'editorial',\n",
       " 'fiction',\n",
       " 'government',\n",
       " 'hobbies',\n",
       " 'humor',\n",
       " 'learned',\n",
       " 'lore',\n",
       " 'mystery',\n",
       " 'news',\n",
       " 'religion',\n",
       " 'reviews',\n",
       " 'romance',\n",
       " 'science_fiction']"
      ]
     },
     "execution_count": 8,
     "metadata": {},
     "output_type": "execute_result"
    }
   ],
   "source": [
    "brown.categories()"
   ]
  },
  {
   "cell_type": "markdown",
   "metadata": {},
   "source": [
    "total number of words in the news category"
   ]
  },
  {
   "cell_type": "code",
   "execution_count": 15,
   "metadata": {},
   "outputs": [
    {
     "data": {
      "text/plain": [
       "100554"
      ]
     },
     "execution_count": 15,
     "metadata": {},
     "output_type": "execute_result"
    }
   ],
   "source": [
    "len(brown.words(categories=\"news\"))"
   ]
  },
  {
   "cell_type": "markdown",
   "metadata": {},
   "source": [
    "total number of unique words in news category"
   ]
  },
  {
   "cell_type": "code",
   "execution_count": 16,
   "metadata": {},
   "outputs": [
    {
     "data": {
      "text/plain": [
       "14394"
      ]
     },
     "execution_count": 16,
     "metadata": {},
     "output_type": "execute_result"
    }
   ],
   "source": [
    "len(set(brown.words(categories=\"news\")))"
   ]
  },
  {
   "cell_type": "code",
   "execution_count": 32,
   "metadata": {},
   "outputs": [
    {
     "name": "stdout",
     "output_type": "stream",
     "text": [
      "adventure \n",
      " tokens: 69342 \n",
      " types: 8874 \n",
      " lexical diversity: 0.128\n",
      "belles_lettres \n",
      " tokens: 173096 \n",
      " types: 18421 \n",
      " lexical diversity: 0.106\n",
      "editorial \n",
      " tokens: 61604 \n",
      " types: 9890 \n",
      " lexical diversity: 0.161\n",
      "fiction \n",
      " tokens: 68488 \n",
      " types: 9302 \n",
      " lexical diversity: 0.136\n",
      "government \n",
      " tokens: 70117 \n",
      " types: 8181 \n",
      " lexical diversity: 0.117\n",
      "hobbies \n",
      " tokens: 82345 \n",
      " types: 11935 \n",
      " lexical diversity: 0.145\n",
      "humor \n",
      " tokens: 21695 \n",
      " types: 5017 \n",
      " lexical diversity: 0.231\n",
      "learned \n",
      " tokens: 181888 \n",
      " types: 16859 \n",
      " lexical diversity: 0.093\n",
      "lore \n",
      " tokens: 110299 \n",
      " types: 14503 \n",
      " lexical diversity: 0.131\n",
      "mystery \n",
      " tokens: 57169 \n",
      " types: 6982 \n",
      " lexical diversity: 0.122\n",
      "news \n",
      " tokens: 100554 \n",
      " types: 14394 \n",
      " lexical diversity: 0.143\n",
      "religion \n",
      " tokens: 39399 \n",
      " types: 6373 \n",
      " lexical diversity: 0.162\n",
      "reviews \n",
      " tokens: 40704 \n",
      " types: 8626 \n",
      " lexical diversity: 0.212\n",
      "romance \n",
      " tokens: 70022 \n",
      " types: 8452 \n",
      " lexical diversity: 0.121\n",
      "science_fiction \n",
      " tokens: 14470 \n",
      " types: 3233 \n",
      " lexical diversity: 0.223\n"
     ]
    }
   ],
   "source": [
    "for genre in brown.categories():\n",
    "    tokens = len(brown.words(categories=genre))\n",
    "    types = len(set(brown.words(categories=genre)))\n",
    "    lexical_diversity = round(types/tokens, 3)\n",
    "    print(f\"{genre} \\n tokens: {tokens} \\n types: {types} \\n lexical diversity: {lexical_diversity}\")"
   ]
  }
 ],
 "metadata": {
  "kernelspec": {
   "display_name": "Python 3",
   "language": "python",
   "name": "python3"
  },
  "language_info": {
   "codemirror_mode": {
    "name": "ipython",
    "version": 3
   },
   "file_extension": ".py",
   "mimetype": "text/x-python",
   "name": "python",
   "nbconvert_exporter": "python",
   "pygments_lexer": "ipython3",
   "version": "3.7.0"
  }
 },
 "nbformat": 4,
 "nbformat_minor": 2
}
